{
 "cells": [
  {
   "cell_type": "code",
   "execution_count": 96,
   "metadata": {},
   "outputs": [],
   "source": [
    "import pandas as pd \n",
    "import matplotlib.pyplot as plt\n",
    "%matplotlib inline "
   ]
  },
  {
   "cell_type": "code",
   "execution_count": 97,
   "metadata": {},
   "outputs": [],
   "source": [
    "data=pd.read_excel(r\"C:\\Users\\Julaysa\\Desktop\\Задача\\Date.xlsx\")"
   ]
  },
  {
   "cell_type": "code",
   "execution_count": 98,
   "metadata": {},
   "outputs": [
    {
     "data": {
      "text/html": [
       "<div>\n",
       "<style scoped>\n",
       "    .dataframe tbody tr th:only-of-type {\n",
       "        vertical-align: middle;\n",
       "    }\n",
       "\n",
       "    .dataframe tbody tr th {\n",
       "        vertical-align: top;\n",
       "    }\n",
       "\n",
       "    .dataframe thead th {\n",
       "        text-align: right;\n",
       "    }\n",
       "</style>\n",
       "<table border=\"1\" class=\"dataframe\">\n",
       "  <thead>\n",
       "    <tr style=\"text-align: right;\">\n",
       "      <th></th>\n",
       "      <th>Структура</th>\n",
       "      <th>Скважина</th>\n",
       "      <th>Месторождение</th>\n",
       "      <th>Класс мероприятий</th>\n",
       "      <th>Вид ресурса</th>\n",
       "      <th>№ Ресурса</th>\n",
       "      <th>Мероприятия</th>\n",
       "      <th>Начало</th>\n",
       "      <th>Окончание</th>\n",
       "      <th>Длительность</th>\n",
       "      <th>Q нефти т/сут</th>\n",
       "      <th>Q Жидкости м3/сут</th>\n",
       "      <th>Обводненность %</th>\n",
       "      <th>Q пг м3/сут</th>\n",
       "      <th>ГФ пг м3/т</th>\n",
       "    </tr>\n",
       "  </thead>\n",
       "  <tbody>\n",
       "    <tr>\n",
       "      <th>0</th>\n",
       "      <td>УПБ</td>\n",
       "      <td>2481</td>\n",
       "      <td>Калининское</td>\n",
       "      <td>База</td>\n",
       "      <td>КРС</td>\n",
       "      <td>КРС-1</td>\n",
       "      <td>КР подобъектов кустовых площадок</td>\n",
       "      <td>2021-04-24 09:00:00</td>\n",
       "      <td>2021-04-25 00:00:00</td>\n",
       "      <td>0.625</td>\n",
       "      <td>20.545590</td>\n",
       "      <td>26</td>\n",
       "      <td>5.25</td>\n",
       "      <td>30711</td>\n",
       "      <td>1494.773331</td>\n",
       "    </tr>\n",
       "    <tr>\n",
       "      <th>1</th>\n",
       "      <td>УПБ</td>\n",
       "      <td>2481</td>\n",
       "      <td>Калининское</td>\n",
       "      <td>База</td>\n",
       "      <td>КРС</td>\n",
       "      <td>КРС-2</td>\n",
       "      <td>Вывоз мусора</td>\n",
       "      <td>2021-04-21 09:00:00</td>\n",
       "      <td>2021-04-22 00:00:00</td>\n",
       "      <td>0.625</td>\n",
       "      <td>42.835716</td>\n",
       "      <td>51</td>\n",
       "      <td>1.00</td>\n",
       "      <td>76016</td>\n",
       "      <td>1774.593893</td>\n",
       "    </tr>\n",
       "    <tr>\n",
       "      <th>2</th>\n",
       "      <td>УПБ</td>\n",
       "      <td>2481</td>\n",
       "      <td>Калининское</td>\n",
       "      <td>Недоборы</td>\n",
       "      <td>Бригада</td>\n",
       "      <td>Бригада-1</td>\n",
       "      <td>Запуск скважины</td>\n",
       "      <td>2021-04-15 09:00:00</td>\n",
       "      <td>2021-04-29 09:00:00</td>\n",
       "      <td>14.000</td>\n",
       "      <td>20.408500</td>\n",
       "      <td>25</td>\n",
       "      <td>2.00</td>\n",
       "      <td>99967</td>\n",
       "      <td>4898.302178</td>\n",
       "    </tr>\n",
       "    <tr>\n",
       "      <th>3</th>\n",
       "      <td>УМТО</td>\n",
       "      <td>241</td>\n",
       "      <td>Калининское</td>\n",
       "      <td>Недоборы</td>\n",
       "      <td>Бригада</td>\n",
       "      <td>Бригада-2</td>\n",
       "      <td>Запуск скважины</td>\n",
       "      <td>2021-04-23 09:00:00</td>\n",
       "      <td>2021-04-24 00:00:00</td>\n",
       "      <td>0.625</td>\n",
       "      <td>41.237707</td>\n",
       "      <td>66</td>\n",
       "      <td>25.75</td>\n",
       "      <td>70054</td>\n",
       "      <td>1698.785026</td>\n",
       "    </tr>\n",
       "    <tr>\n",
       "      <th>4</th>\n",
       "      <td>УМТО</td>\n",
       "      <td>241</td>\n",
       "      <td>Калининское</td>\n",
       "      <td>ГТМ</td>\n",
       "      <td>Бригада</td>\n",
       "      <td>Бригада-3</td>\n",
       "      <td>Бурение</td>\n",
       "      <td>2021-03-01 00:00:00</td>\n",
       "      <td>2021-03-31 00:00:00</td>\n",
       "      <td>30.000</td>\n",
       "      <td>22.313760</td>\n",
       "      <td>42</td>\n",
       "      <td>42.00</td>\n",
       "      <td>136220</td>\n",
       "      <td>6104.753300</td>\n",
       "    </tr>\n",
       "  </tbody>\n",
       "</table>\n",
       "</div>"
      ],
      "text/plain": [
       "   Структура  Скважина Месторождение Класс мероприятий Вид ресурса  № Ресурса  \\\n",
       "0        УПБ      2481  Калининское               База         КРС      КРС-1   \n",
       "1        УПБ      2481  Калининское               База         КРС      КРС-2   \n",
       "2        УПБ      2481  Калининское           Недоборы     Бригада  Бригада-1   \n",
       "3       УМТО       241  Калининское           Недоборы     Бригада  Бригада-2   \n",
       "4       УМТО       241  Калининское                ГТМ     Бригада  Бригада-3   \n",
       "\n",
       "                        Мероприятия              Начало           Окончание  \\\n",
       "0  КР подобъектов кустовых площадок 2021-04-24 09:00:00 2021-04-25 00:00:00   \n",
       "1                      Вывоз мусора 2021-04-21 09:00:00 2021-04-22 00:00:00   \n",
       "2                   Запуск скважины 2021-04-15 09:00:00 2021-04-29 09:00:00   \n",
       "3                   Запуск скважины 2021-04-23 09:00:00 2021-04-24 00:00:00   \n",
       "4                           Бурение 2021-03-01 00:00:00 2021-03-31 00:00:00   \n",
       "\n",
       "   Длительность  Q нефти т/сут  Q Жидкости м3/сут  Обводненность %  \\\n",
       "0         0.625      20.545590                 26             5.25   \n",
       "1         0.625      42.835716                 51             1.00   \n",
       "2        14.000      20.408500                 25             2.00   \n",
       "3         0.625      41.237707                 66            25.75   \n",
       "4        30.000      22.313760                 42            42.00   \n",
       "\n",
       "   Q пг м3/сут   ГФ пг м3/т  \n",
       "0        30711  1494.773331  \n",
       "1        76016  1774.593893  \n",
       "2        99967  4898.302178  \n",
       "3        70054  1698.785026  \n",
       "4       136220  6104.753300  "
      ]
     },
     "execution_count": 98,
     "metadata": {},
     "output_type": "execute_result"
    }
   ],
   "source": [
    "data.head()"
   ]
  },
  {
   "cell_type": "markdown",
   "metadata": {},
   "source": [
    "# Нефть"
   ]
  },
  {
   "cell_type": "code",
   "execution_count": 99,
   "metadata": {},
   "outputs": [],
   "source": [
    "data_neft_1=data.groupby([\"Месторождение\",\"Скважина\"],as_index=False) \\\n",
    ".aggregate({\"Q нефти т/сут\":\"sum\"}) \\\n",
    ".sort_values(\"Q нефти т/сут\",ascending=False)"
   ]
  },
  {
   "cell_type": "code",
   "execution_count": 100,
   "metadata": {},
   "outputs": [
    {
     "data": {
      "text/html": [
       "<div>\n",
       "<style scoped>\n",
       "    .dataframe tbody tr th:only-of-type {\n",
       "        vertical-align: middle;\n",
       "    }\n",
       "\n",
       "    .dataframe tbody tr th {\n",
       "        vertical-align: top;\n",
       "    }\n",
       "\n",
       "    .dataframe thead th {\n",
       "        text-align: right;\n",
       "    }\n",
       "</style>\n",
       "<table border=\"1\" class=\"dataframe\">\n",
       "  <thead>\n",
       "    <tr style=\"text-align: right;\">\n",
       "      <th></th>\n",
       "      <th>Месторождение</th>\n",
       "      <th>Скважина</th>\n",
       "      <th>Q нефти т/сут</th>\n",
       "    </tr>\n",
       "  </thead>\n",
       "  <tbody>\n",
       "    <tr>\n",
       "      <th>3</th>\n",
       "      <td>Ивановское</td>\n",
       "      <td>8765</td>\n",
       "      <td>191.748000</td>\n",
       "    </tr>\n",
       "    <tr>\n",
       "      <th>21</th>\n",
       "      <td>Петровское</td>\n",
       "      <td>88</td>\n",
       "      <td>176.509080</td>\n",
       "    </tr>\n",
       "    <tr>\n",
       "      <th>22</th>\n",
       "      <td>Петровское</td>\n",
       "      <td>190</td>\n",
       "      <td>171.513540</td>\n",
       "    </tr>\n",
       "    <tr>\n",
       "      <th>0</th>\n",
       "      <td>Ивановское</td>\n",
       "      <td>18</td>\n",
       "      <td>151.993930</td>\n",
       "    </tr>\n",
       "    <tr>\n",
       "      <th>19</th>\n",
       "      <td>Ленинское</td>\n",
       "      <td>9474</td>\n",
       "      <td>134.055400</td>\n",
       "    </tr>\n",
       "    <tr>\n",
       "      <th>25</th>\n",
       "      <td>Петровское</td>\n",
       "      <td>9299</td>\n",
       "      <td>133.895610</td>\n",
       "    </tr>\n",
       "    <tr>\n",
       "      <th>16</th>\n",
       "      <td>Ленинское</td>\n",
       "      <td>2277</td>\n",
       "      <td>111.953920</td>\n",
       "    </tr>\n",
       "    <tr>\n",
       "      <th>2</th>\n",
       "      <td>Ивановское</td>\n",
       "      <td>569</td>\n",
       "      <td>110.297150</td>\n",
       "    </tr>\n",
       "    <tr>\n",
       "      <th>14</th>\n",
       "      <td>Ленинское</td>\n",
       "      <td>2009</td>\n",
       "      <td>104.073750</td>\n",
       "    </tr>\n",
       "    <tr>\n",
       "      <th>20</th>\n",
       "      <td>Петровское</td>\n",
       "      <td>65</td>\n",
       "      <td>104.048520</td>\n",
       "    </tr>\n",
       "    <tr>\n",
       "      <th>24</th>\n",
       "      <td>Петровское</td>\n",
       "      <td>2345</td>\n",
       "      <td>95.136022</td>\n",
       "    </tr>\n",
       "    <tr>\n",
       "      <th>12</th>\n",
       "      <td>Ленинское</td>\n",
       "      <td>1921</td>\n",
       "      <td>87.421950</td>\n",
       "    </tr>\n",
       "    <tr>\n",
       "      <th>5</th>\n",
       "      <td>Калининское</td>\n",
       "      <td>2481</td>\n",
       "      <td>83.789806</td>\n",
       "    </tr>\n",
       "    <tr>\n",
       "      <th>6</th>\n",
       "      <td>Ленинское</td>\n",
       "      <td>20</td>\n",
       "      <td>81.476080</td>\n",
       "    </tr>\n",
       "    <tr>\n",
       "      <th>17</th>\n",
       "      <td>Ленинское</td>\n",
       "      <td>2345</td>\n",
       "      <td>74.100510</td>\n",
       "    </tr>\n",
       "    <tr>\n",
       "      <th>18</th>\n",
       "      <td>Ленинское</td>\n",
       "      <td>2347</td>\n",
       "      <td>67.269487</td>\n",
       "    </tr>\n",
       "    <tr>\n",
       "      <th>4</th>\n",
       "      <td>Калининское</td>\n",
       "      <td>241</td>\n",
       "      <td>63.551468</td>\n",
       "    </tr>\n",
       "    <tr>\n",
       "      <th>15</th>\n",
       "      <td>Ленинское</td>\n",
       "      <td>2223</td>\n",
       "      <td>62.572950</td>\n",
       "    </tr>\n",
       "    <tr>\n",
       "      <th>10</th>\n",
       "      <td>Ленинское</td>\n",
       "      <td>211</td>\n",
       "      <td>60.989320</td>\n",
       "    </tr>\n",
       "    <tr>\n",
       "      <th>9</th>\n",
       "      <td>Ленинское</td>\n",
       "      <td>111</td>\n",
       "      <td>56.616120</td>\n",
       "    </tr>\n",
       "    <tr>\n",
       "      <th>13</th>\n",
       "      <td>Ленинское</td>\n",
       "      <td>2006</td>\n",
       "      <td>54.950940</td>\n",
       "    </tr>\n",
       "    <tr>\n",
       "      <th>1</th>\n",
       "      <td>Ивановское</td>\n",
       "      <td>37</td>\n",
       "      <td>53.386680</td>\n",
       "    </tr>\n",
       "    <tr>\n",
       "      <th>7</th>\n",
       "      <td>Ленинское</td>\n",
       "      <td>22</td>\n",
       "      <td>46.801650</td>\n",
       "    </tr>\n",
       "    <tr>\n",
       "      <th>11</th>\n",
       "      <td>Ленинское</td>\n",
       "      <td>908</td>\n",
       "      <td>43.874970</td>\n",
       "    </tr>\n",
       "    <tr>\n",
       "      <th>8</th>\n",
       "      <td>Ленинское</td>\n",
       "      <td>88</td>\n",
       "      <td>41.545400</td>\n",
       "    </tr>\n",
       "    <tr>\n",
       "      <th>23</th>\n",
       "      <td>Петровское</td>\n",
       "      <td>211</td>\n",
       "      <td>26.642880</td>\n",
       "    </tr>\n",
       "  </tbody>\n",
       "</table>\n",
       "</div>"
      ],
      "text/plain": [
       "   Месторождение  Скважина  Q нефти т/сут\n",
       "3     Ивановское      8765     191.748000\n",
       "21   Петровское         88     176.509080\n",
       "22   Петровское        190     171.513540\n",
       "0     Ивановское        18     151.993930\n",
       "19     Ленинское      9474     134.055400\n",
       "25   Петровское       9299     133.895610\n",
       "16     Ленинское      2277     111.953920\n",
       "2     Ивановское       569     110.297150\n",
       "14     Ленинское      2009     104.073750\n",
       "20   Петровское         65     104.048520\n",
       "24   Петровское       2345      95.136022\n",
       "12     Ленинское      1921      87.421950\n",
       "5   Калининское       2481      83.789806\n",
       "6      Ленинское        20      81.476080\n",
       "17     Ленинское      2345      74.100510\n",
       "18     Ленинское      2347      67.269487\n",
       "4   Калининское        241      63.551468\n",
       "15     Ленинское      2223      62.572950\n",
       "10     Ленинское       211      60.989320\n",
       "9      Ленинское       111      56.616120\n",
       "13     Ленинское      2006      54.950940\n",
       "1     Ивановское        37      53.386680\n",
       "7      Ленинское        22      46.801650\n",
       "11     Ленинское       908      43.874970\n",
       "8      Ленинское        88      41.545400\n",
       "23   Петровское        211      26.642880"
      ]
     },
     "execution_count": 100,
     "metadata": {},
     "output_type": "execute_result"
    }
   ],
   "source": [
    "data_neft_1"
   ]
  },
  {
   "cell_type": "code",
   "execution_count": 101,
   "metadata": {},
   "outputs": [],
   "source": [
    "data_neft_2=data.groupby([\"Месторождение\"],as_index=False) \\\n",
    ".aggregate({\"Q нефти т/сут\":\"sum\"}) \\\n",
    ".sort_values(\"Q нефти т/сут\",ascending=False)"
   ]
  },
  {
   "cell_type": "code",
   "execution_count": 102,
   "metadata": {},
   "outputs": [
    {
     "data": {
      "text/html": [
       "<div>\n",
       "<style scoped>\n",
       "    .dataframe tbody tr th:only-of-type {\n",
       "        vertical-align: middle;\n",
       "    }\n",
       "\n",
       "    .dataframe tbody tr th {\n",
       "        vertical-align: top;\n",
       "    }\n",
       "\n",
       "    .dataframe thead th {\n",
       "        text-align: right;\n",
       "    }\n",
       "</style>\n",
       "<table border=\"1\" class=\"dataframe\">\n",
       "  <thead>\n",
       "    <tr style=\"text-align: right;\">\n",
       "      <th></th>\n",
       "      <th>Месторождение</th>\n",
       "      <th>Q нефти т/сут</th>\n",
       "    </tr>\n",
       "  </thead>\n",
       "  <tbody>\n",
       "    <tr>\n",
       "      <th>2</th>\n",
       "      <td>Ленинское</td>\n",
       "      <td>1027.702448</td>\n",
       "    </tr>\n",
       "    <tr>\n",
       "      <th>3</th>\n",
       "      <td>Петровское</td>\n",
       "      <td>707.745652</td>\n",
       "    </tr>\n",
       "    <tr>\n",
       "      <th>0</th>\n",
       "      <td>Ивановское</td>\n",
       "      <td>507.425760</td>\n",
       "    </tr>\n",
       "    <tr>\n",
       "      <th>1</th>\n",
       "      <td>Калининское</td>\n",
       "      <td>147.341273</td>\n",
       "    </tr>\n",
       "  </tbody>\n",
       "</table>\n",
       "</div>"
      ],
      "text/plain": [
       "  Месторождение  Q нефти т/сут\n",
       "2     Ленинское    1027.702448\n",
       "3   Петровское      707.745652\n",
       "0    Ивановское     507.425760\n",
       "1  Калининское      147.341273"
      ]
     },
     "execution_count": 102,
     "metadata": {},
     "output_type": "execute_result"
    }
   ],
   "source": [
    "data_neft_2"
   ]
  },
  {
   "cell_type": "code",
   "execution_count": 137,
   "metadata": {},
   "outputs": [
    {
     "data": {
      "image/png": "[encoded data removed]",
      "text/plain": [
       "<Figure size 432x288 with 1 Axes>"
      ]
     },
     "metadata": {
      "needs_background": "light"
     },
     "output_type": "display_data"
    }
   ],
   "source": [
    "values=data_neft_2['Q нефти т/сут']\n",
    "colors=[\"r\",\"b\",\"y\",\"g\"]\n",
    "name=data_neft_2['Месторождение']\n",
    "plt.bar(range(0,4),values,color=colors,tick_label=name)\n",
    "plt.title(r'Добытая нефть по месторождениям т/сут', fontsize=16, y=1.05);"
   ]
  },
  {
   "cell_type": "markdown",
   "metadata": {},
   "source": [
    "# Жидкость"
   ]
  },
  {
   "cell_type": "code",
   "execution_count": 138,
   "metadata": {},
   "outputs": [],
   "source": [
    "data_water=data.groupby([\"Месторождение\"],as_index=False) \\\n",
    ".aggregate({\"Q Жидкости м3/сут\":\"sum\"}) \\\n",
    ".sort_values(\"Q Жидкости м3/сут\",ascending=False)"
   ]
  },
  {
   "cell_type": "code",
   "execution_count": 139,
   "metadata": {},
   "outputs": [
    {
     "data": {
      "text/html": [
       "<div>\n",
       "<style scoped>\n",
       "    .dataframe tbody tr th:only-of-type {\n",
       "        vertical-align: middle;\n",
       "    }\n",
       "\n",
       "    .dataframe tbody tr th {\n",
       "        vertical-align: top;\n",
       "    }\n",
       "\n",
       "    .dataframe thead th {\n",
       "        text-align: right;\n",
       "    }\n",
       "</style>\n",
       "<table border=\"1\" class=\"dataframe\">\n",
       "  <thead>\n",
       "    <tr style=\"text-align: right;\">\n",
       "      <th></th>\n",
       "      <th>Месторождение</th>\n",
       "      <th>Q Жидкости м3/сут</th>\n",
       "    </tr>\n",
       "  </thead>\n",
       "  <tbody>\n",
       "    <tr>\n",
       "      <th>2</th>\n",
       "      <td>Ленинское</td>\n",
       "      <td>1305</td>\n",
       "    </tr>\n",
       "    <tr>\n",
       "      <th>3</th>\n",
       "      <td>Петровское</td>\n",
       "      <td>865</td>\n",
       "    </tr>\n",
       "    <tr>\n",
       "      <th>0</th>\n",
       "      <td>Ивановское</td>\n",
       "      <td>649</td>\n",
       "    </tr>\n",
       "    <tr>\n",
       "      <th>1</th>\n",
       "      <td>Калининское</td>\n",
       "      <td>210</td>\n",
       "    </tr>\n",
       "  </tbody>\n",
       "</table>\n",
       "</div>"
      ],
      "text/plain": [
       "  Месторождение  Q Жидкости м3/сут\n",
       "2     Ленинское               1305\n",
       "3   Петровское                 865\n",
       "0    Ивановское                649\n",
       "1  Калининское                 210"
      ]
     },
     "execution_count": 139,
     "metadata": {},
     "output_type": "execute_result"
    }
   ],
   "source": [
    "data_water"
   ]
  },
  {
   "cell_type": "code",
   "execution_count": 136,
   "metadata": {},
   "outputs": [
    {
     "data": {
      "text/plain": [
       "([<matplotlib.patches.Wedge at 0x1c9d4242730>,\n",
       "  <matplotlib.patches.Wedge at 0x1c9d41b4fa0>,\n",
       "  <matplotlib.patches.Wedge at 0x1c9d41b4400>,\n",
       "  <matplotlib.patches.Wedge at 0x1c9d4174d00>],\n",
       " [Text(0.2371398501222306, 1.074134391723869, 'Ленинское'),\n",
       "  Text(-0.9843953084107991, -0.49088275257825864, 'Петровское '),\n",
       "  Text(0.6241100479790023, -1.2531905872658187, 'Ивановское'),\n",
       "  Text(1.0740112557646746, -0.2376969130863655, 'Калининское ')])"
      ]
     },
     "execution_count": 136,
     "metadata": {},
     "output_type": "execute_result"
    },
    {
     "data": {
      "image/png": "[encoded data removed]",
      "text/plain": [
       "<Figure size 432x288 with 1 Axes>"
      ]
     },
     "metadata": {},
     "output_type": "display_data"
    }
   ],
   "source": [
    "values=data_water['Q Жидкости м3/сут']\n",
    "name=data_water['Месторождение']\n",
    "colors=[\"r\",\"b\",\"y\",\"g\"]\n",
    "plt.title(\"Колличество добытой жидкости по месторождениям\")\n",
    "explode=[0,0,0.3,0]\n",
    "plt.pie(values,colors=colors,labels=name,explode=explode)"
   ]
  },
  {
   "cell_type": "markdown",
   "metadata": {},
   "source": [
    "# Мероприятия по месторождению Ленинское"
   ]
  },
  {
   "cell_type": "code",
   "execution_count": 140,
   "metadata": {},
   "outputs": [],
   "source": [
    "data_m=data.groupby([\"Месторождение\",\"Класс мероприятий\"],as_index=False) \\\n",
    ".aggregate({\"Вид ресурса\":\"count\"}) \\\n",
    ".sort_values(\"Вид ресурса\",ascending=False) \\\n",
    ".rename(columns={\"Вид ресурса\":\"Количество\"}) \\\n",
    ".query(\"Месторождение=='Ленинское'\") "
   ]
  },
  {
   "cell_type": "code",
   "execution_count": 141,
   "metadata": {},
   "outputs": [
    {
     "data": {
      "text/html": [
       "<div>\n",
       "<style scoped>\n",
       "    .dataframe tbody tr th:only-of-type {\n",
       "        vertical-align: middle;\n",
       "    }\n",
       "\n",
       "    .dataframe tbody tr th {\n",
       "        vertical-align: top;\n",
       "    }\n",
       "\n",
       "    .dataframe thead th {\n",
       "        text-align: right;\n",
       "    }\n",
       "</style>\n",
       "<table border=\"1\" class=\"dataframe\">\n",
       "  <thead>\n",
       "    <tr style=\"text-align: right;\">\n",
       "      <th></th>\n",
       "      <th>Месторождение</th>\n",
       "      <th>Класс мероприятий</th>\n",
       "      <th>Количество</th>\n",
       "    </tr>\n",
       "  </thead>\n",
       "  <tbody>\n",
       "    <tr>\n",
       "      <th>6</th>\n",
       "      <td>Ленинское</td>\n",
       "      <td>ГТМ</td>\n",
       "      <td>8</td>\n",
       "    </tr>\n",
       "    <tr>\n",
       "      <th>5</th>\n",
       "      <td>Ленинское</td>\n",
       "      <td>База</td>\n",
       "      <td>7</td>\n",
       "    </tr>\n",
       "    <tr>\n",
       "      <th>7</th>\n",
       "      <td>Ленинское</td>\n",
       "      <td>Недоборы</td>\n",
       "      <td>7</td>\n",
       "    </tr>\n",
       "  </tbody>\n",
       "</table>\n",
       "</div>"
      ],
      "text/plain": [
       "  Месторождение Класс мероприятий  Количество\n",
       "6     Ленинское               ГТМ           8\n",
       "5     Ленинское              База           7\n",
       "7     Ленинское          Недоборы           7"
      ]
     },
     "execution_count": 141,
     "metadata": {},
     "output_type": "execute_result"
    }
   ],
   "source": [
    "data_m"
   ]
  },
  {
   "cell_type": "code",
   "execution_count": 142,
   "metadata": {},
   "outputs": [
    {
     "data": {
      "text/html": [
       "<div>\n",
       "<style scoped>\n",
       "    .dataframe tbody tr th:only-of-type {\n",
       "        vertical-align: middle;\n",
       "    }\n",
       "\n",
       "    .dataframe tbody tr th {\n",
       "        vertical-align: top;\n",
       "    }\n",
       "\n",
       "    .dataframe thead th {\n",
       "        text-align: right;\n",
       "    }\n",
       "</style>\n",
       "<table border=\"1\" class=\"dataframe\">\n",
       "  <thead>\n",
       "    <tr style=\"text-align: right;\">\n",
       "      <th></th>\n",
       "      <th>Класс мероприятий</th>\n",
       "      <th>Количество</th>\n",
       "    </tr>\n",
       "  </thead>\n",
       "  <tbody>\n",
       "    <tr>\n",
       "      <th>6</th>\n",
       "      <td>ГТМ</td>\n",
       "      <td>8</td>\n",
       "    </tr>\n",
       "  </tbody>\n",
       "</table>\n",
       "</div>"
      ],
      "text/plain": [
       "  Класс мероприятий  Количество\n",
       "6               ГТМ           8"
      ]
     },
     "execution_count": 142,
     "metadata": {},
     "output_type": "execute_result"
    }
   ],
   "source": [
    "data_m.iloc[:-2,1:]"
   ]
  },
  {
   "cell_type": "markdown",
   "metadata": {},
   "source": [
    "# Обводненность"
   ]
  },
  {
   "cell_type": "code",
   "execution_count": 143,
   "metadata": {},
   "outputs": [],
   "source": [
    "data_w=data.groupby([\"Месторождение\",\"Скважина\"],as_index=False) \\\n",
    ".aggregate({\"Обводненность %\":\"sum\"}) \\\n",
    ".sort_values(\"Обводненность %\",ascending=False) \\\n",
    ".rename(columns={\"Обводненность %\":\"Обводненность\"})\\\n",
    ".query('Обводненность>25 and Месторождение==\"Ленинское\"') "
   ]
  },
  {
   "cell_type": "code",
   "execution_count": 144,
   "metadata": {},
   "outputs": [
    {
     "data": {
      "text/html": [
       "<div>\n",
       "<style scoped>\n",
       "    .dataframe tbody tr th:only-of-type {\n",
       "        vertical-align: middle;\n",
       "    }\n",
       "\n",
       "    .dataframe tbody tr th {\n",
       "        vertical-align: top;\n",
       "    }\n",
       "\n",
       "    .dataframe thead th {\n",
       "        text-align: right;\n",
       "    }\n",
       "</style>\n",
       "<table border=\"1\" class=\"dataframe\">\n",
       "  <thead>\n",
       "    <tr style=\"text-align: right;\">\n",
       "      <th></th>\n",
       "      <th>Месторождение</th>\n",
       "      <th>Скважина</th>\n",
       "      <th>Обводненность</th>\n",
       "    </tr>\n",
       "  </thead>\n",
       "  <tbody>\n",
       "    <tr>\n",
       "      <th>11</th>\n",
       "      <td>Ленинское</td>\n",
       "      <td>908</td>\n",
       "      <td>60.00</td>\n",
       "    </tr>\n",
       "    <tr>\n",
       "      <th>19</th>\n",
       "      <td>Ленинское</td>\n",
       "      <td>9474</td>\n",
       "      <td>36.00</td>\n",
       "    </tr>\n",
       "    <tr>\n",
       "      <th>15</th>\n",
       "      <td>Ленинское</td>\n",
       "      <td>2223</td>\n",
       "      <td>26.75</td>\n",
       "    </tr>\n",
       "  </tbody>\n",
       "</table>\n",
       "</div>"
      ],
      "text/plain": [
       "   Месторождение  Скважина  Обводненность\n",
       "11     Ленинское       908          60.00\n",
       "19     Ленинское      9474          36.00\n",
       "15     Ленинское      2223          26.75"
      ]
     },
     "execution_count": 144,
     "metadata": {},
     "output_type": "execute_result"
    }
   ],
   "source": [
    "data_w"
   ]
  },
  {
   "cell_type": "code",
   "execution_count": 145,
   "metadata": {},
   "outputs": [
    {
     "data": {
      "image/png": "[encoded data removed]",
      "text/plain": [
       "<Figure size 432x288 with 1 Axes>"
      ]
     },
     "metadata": {
      "needs_background": "light"
     },
     "output_type": "display_data"
    }
   ],
   "source": [
    "values=data_w['Обводненность']\n",
    "colors=[\"b\",\"y\",\"g\"]\n",
    "n=data_w['Скважина']\n",
    "plt.bar(range(0,3),values,color=colors,tick_label=n)\n",
    "plt.title(r'Обводненность по Ленинскому месторождению %', fontsize=16, y=1.05);"
   ]
  },
  {
   "cell_type": "code",
   "execution_count": null,
   "metadata": {},
   "outputs": [],
   "source": []
  }
 ],
 "metadata": {
  "kernelspec": {
   "display_name": "Python 3",
   "language": "python",
   "name": "python3"
  },
  "language_info": {
   "codemirror_mode": {
    "name": "ipython",
    "version": 3
   },
   "file_extension": ".py",
   "mimetype": "text/x-python",
   "name": "python",
   "nbconvert_exporter": "python",
   "pygments_lexer": "ipython3",
   "version": "3.8.3"
  }
 },
 "nbformat": 4,
 "nbformat_minor": 4
}
