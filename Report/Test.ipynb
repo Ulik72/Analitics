{
 "cells": [
  {
   "cell_type": "code",
   "execution_count": 1,
   "metadata": {},
   "outputs": [],
   "source": [
    "import pandas as pd\n",
    "from os import listdir\n",
    "from os.path import isfile, join\n",
    "import shutil as shu\n",
    "from pathlib import Path"
   ]
  },
  {
   "cell_type": "code",
   "execution_count": 2,
   "metadata": {},
   "outputs": [
    {
     "data": {
      "text/plain": [
       "['Апрель.xlsx',\n",
       " 'Июнь.xlsx',\n",
       " 'Май.xlsx',\n",
       " 'Март.xlsx',\n",
       " 'Февраль.xlsx',\n",
       " 'Январь.xlsx']"
      ]
     },
     "execution_count": 2,
     "metadata": {},
     "output_type": "execute_result"
    }
   ],
   "source": [
    "mypath=r'C:\\Users\\Julaysa\\Analitics\\Month\\Data'\n",
    "names = [f for f in listdir(mypath) if isfile(join(mypath, f))]\n",
    "names"
   ]
  },
  {
   "cell_type": "code",
   "execution_count": 11,
   "metadata": {},
   "outputs": [],
   "source": [
    "excl_list=[]\n",
    "for i in names:\n",
    "    file=f'{mypath}\\{i}'\n",
    "    data=pd.read_excel(file)\n",
    "    \n",
    "    # Месяц\n",
    "    Month=names[0][:-5]\n",
    "    data[\"Месяц\"]=str(Month)\n",
    "    \n",
    "    # Добавляем файлы\n",
    "    excl_list.append(data)"
   ]
  },
  {
   "cell_type": "code",
   "execution_count": 12,
   "metadata": {},
   "outputs": [
    {
     "data": {
      "text/plain": [
       "(142048, 10)"
      ]
     },
     "execution_count": 12,
     "metadata": {},
     "output_type": "execute_result"
    }
   ],
   "source": [
    "result = pd.concat(excl_list)\n",
    "result.shape"
   ]
  },
  {
   "cell_type": "code",
   "execution_count": 20,
   "metadata": {},
   "outputs": [
    {
     "data": {
      "text/plain": [
       "True"
      ]
     },
     "execution_count": 20,
     "metadata": {},
     "output_type": "execute_result"
    }
   ],
   "source": [
    "# Создадим папку для итогового файла\n",
    "p = Path('Итоговый отчет')\n",
    "p.mkdir(parents=True)\n",
    "p.is_dir()"
   ]
  },
  {
   "cell_type": "code",
   "execution_count": 36,
   "metadata": {},
   "outputs": [],
   "source": [
    "result.to_csv('Отчет.csv',sep=';')"
   ]
  },
  {
   "cell_type": "code",
   "execution_count": 35,
   "metadata": {},
   "outputs": [],
   "source": [
    "# Создадим папки по месяцам \n",
    "for dirr in names:\n",
    "    path=dirr[:-5]\n",
    "    p = Path(path)\n",
    "    p.mkdir(parents=True)\n",
    "\n",
    "    # Скопируем файлы\n",
    "    copy=f'{mypath}\\{dirr}'\n",
    "    past=f'{path}\\{dirr}'\n",
    "    shu.copyfile(copy,past)"
   ]
  },
  {
   "cell_type": "code",
   "execution_count": null,
   "metadata": {},
   "outputs": [],
   "source": []
  }
 ],
 "metadata": {
  "kernelspec": {
   "display_name": "Python 3",
   "language": "python",
   "name": "python3"
  },
  "language_info": {
   "codemirror_mode": {
    "name": "ipython",
    "version": 3
   },
   "file_extension": ".py",
   "mimetype": "text/x-python",
   "name": "python",
   "nbconvert_exporter": "python",
   "pygments_lexer": "ipython3",
   "version": "3.8.3"
  }
 },
 "nbformat": 4,
 "nbformat_minor": 4
}
