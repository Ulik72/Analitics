{
 "cells": [
  {
   "cell_type": "code",
   "execution_count": 1,
   "metadata": {},
   "outputs": [],
   "source": [
    "import pandas as pd \n",
    "import matplotlib.pyplot as plt\n",
    "import numpy as np\n",
    "%matplotlib inline "
   ]
  },
  {
   "cell_type": "markdown",
   "metadata": {},
   "source": [
    "# Решение первой задачи"
   ]
  },
  {
   "cell_type": "code",
   "execution_count": 2,
   "metadata": {},
   "outputs": [
    {
     "data": {
      "text/html": [
       "<div>\n",
       "<style scoped>\n",
       "    .dataframe tbody tr th:only-of-type {\n",
       "        vertical-align: middle;\n",
       "    }\n",
       "\n",
       "    .dataframe tbody tr th {\n",
       "        vertical-align: top;\n",
       "    }\n",
       "\n",
       "    .dataframe thead th {\n",
       "        text-align: right;\n",
       "    }\n",
       "</style>\n",
       "<table border=\"1\" class=\"dataframe\">\n",
       "  <thead>\n",
       "    <tr style=\"text-align: right;\">\n",
       "      <th></th>\n",
       "      <th>Имя</th>\n",
       "      <th>Должность</th>\n",
       "      <th>Выплата за месяц (рублей)</th>\n",
       "    </tr>\n",
       "  </thead>\n",
       "  <tbody>\n",
       "    <tr>\n",
       "      <th>0</th>\n",
       "      <td>Боевой конь</td>\n",
       "      <td>Программист</td>\n",
       "      <td>50000</td>\n",
       "    </tr>\n",
       "    <tr>\n",
       "      <th>1</th>\n",
       "      <td>Алчный торговец</td>\n",
       "      <td>Менеджер проектов</td>\n",
       "      <td>60000</td>\n",
       "    </tr>\n",
       "    <tr>\n",
       "      <th>2</th>\n",
       "      <td>Иван-царевич</td>\n",
       "      <td>Погонщик гномов</td>\n",
       "      <td>20000</td>\n",
       "    </tr>\n",
       "  </tbody>\n",
       "</table>\n",
       "</div>"
      ],
      "text/plain": [
       "               Имя          Должность  Выплата за месяц (рублей)\n",
       "0      Боевой конь        Программист                      50000\n",
       "1  Алчный торговец  Менеджер проектов                      60000\n",
       "2     Иван-царевич    Погонщик гномов                      20000"
      ]
     },
     "execution_count": 2,
     "metadata": {},
     "output_type": "execute_result"
    }
   ],
   "source": [
    "data_1=pd.read_excel(r'Task1.xlsx')\n",
    "data_2=pd.read_excel(r'Task1.xlsx','Зарплаты').iloc[:,0:3]\n",
    "data_2"
   ]
  },
  {
   "cell_type": "code",
   "execution_count": 3,
   "metadata": {},
   "outputs": [
    {
     "data": {
      "text/html": [
       "<div>\n",
       "<style scoped>\n",
       "    .dataframe tbody tr th:only-of-type {\n",
       "        vertical-align: middle;\n",
       "    }\n",
       "\n",
       "    .dataframe tbody tr th {\n",
       "        vertical-align: top;\n",
       "    }\n",
       "\n",
       "    .dataframe thead th {\n",
       "        text-align: right;\n",
       "    }\n",
       "</style>\n",
       "<table border=\"1\" class=\"dataframe\">\n",
       "  <thead>\n",
       "    <tr style=\"text-align: right;\">\n",
       "      <th></th>\n",
       "      <th>Исполнитель</th>\n",
       "      <th>Залогированные часы</th>\n",
       "    </tr>\n",
       "  </thead>\n",
       "  <tbody>\n",
       "    <tr>\n",
       "      <th>0</th>\n",
       "      <td>Алчный торговец</td>\n",
       "      <td>30.916</td>\n",
       "    </tr>\n",
       "    <tr>\n",
       "      <th>1</th>\n",
       "      <td>Боевой конь</td>\n",
       "      <td>6.417</td>\n",
       "    </tr>\n",
       "    <tr>\n",
       "      <th>2</th>\n",
       "      <td>Иван-царевич</td>\n",
       "      <td>20.333</td>\n",
       "    </tr>\n",
       "  </tbody>\n",
       "</table>\n",
       "</div>"
      ],
      "text/plain": [
       "       Исполнитель  Залогированные часы\n",
       "0  Алчный торговец               30.916\n",
       "1      Боевой конь                6.417\n",
       "2     Иван-царевич               20.333"
      ]
     },
     "execution_count": 3,
     "metadata": {},
     "output_type": "execute_result"
    }
   ],
   "source": [
    "data=data_1[data_1.columns[6:8]]\n",
    "data=data.groupby([\"Исполнитель\"],as_index=False). \\\n",
    "aggregate({\"Залогированные часы\":\"sum\"})\n",
    "data"
   ]
  },
  {
   "cell_type": "code",
   "execution_count": 4,
   "metadata": {},
   "outputs": [
    {
     "data": {
      "text/html": [
       "<div>\n",
       "<style scoped>\n",
       "    .dataframe tbody tr th:only-of-type {\n",
       "        vertical-align: middle;\n",
       "    }\n",
       "\n",
       "    .dataframe tbody tr th {\n",
       "        vertical-align: top;\n",
       "    }\n",
       "\n",
       "    .dataframe thead th {\n",
       "        text-align: right;\n",
       "    }\n",
       "</style>\n",
       "<table border=\"1\" class=\"dataframe\">\n",
       "  <thead>\n",
       "    <tr style=\"text-align: right;\">\n",
       "      <th></th>\n",
       "      <th>Имя</th>\n",
       "      <th>Должность</th>\n",
       "      <th>Выплата за месяц (рублей)</th>\n",
       "      <th>Часы</th>\n",
       "      <th>Стоимость часа</th>\n",
       "    </tr>\n",
       "  </thead>\n",
       "  <tbody>\n",
       "    <tr>\n",
       "      <th>0</th>\n",
       "      <td>Боевой конь</td>\n",
       "      <td>Программист</td>\n",
       "      <td>50000</td>\n",
       "      <td>6.417</td>\n",
       "      <td>7791.803023</td>\n",
       "    </tr>\n",
       "    <tr>\n",
       "      <th>1</th>\n",
       "      <td>Алчный торговец</td>\n",
       "      <td>Менеджер проектов</td>\n",
       "      <td>60000</td>\n",
       "      <td>30.916</td>\n",
       "      <td>1940.742658</td>\n",
       "    </tr>\n",
       "    <tr>\n",
       "      <th>2</th>\n",
       "      <td>Иван-царевич</td>\n",
       "      <td>Погонщик гномов</td>\n",
       "      <td>20000</td>\n",
       "      <td>20.333</td>\n",
       "      <td>983.622682</td>\n",
       "    </tr>\n",
       "  </tbody>\n",
       "</table>\n",
       "</div>"
      ],
      "text/plain": [
       "               Имя          Должность  Выплата за месяц (рублей)    Часы  \\\n",
       "0      Боевой конь        Программист                      50000   6.417   \n",
       "1  Алчный торговец  Менеджер проектов                      60000  30.916   \n",
       "2     Иван-царевич    Погонщик гномов                      20000  20.333   \n",
       "\n",
       "   Стоимость часа  \n",
       "0     7791.803023  \n",
       "1     1940.742658  \n",
       "2      983.622682  "
      ]
     },
     "execution_count": 4,
     "metadata": {},
     "output_type": "execute_result"
    }
   ],
   "source": [
    "df_1=data_2.merge(data, how = 'left', left_on='Имя', right_on='Исполнитель')\n",
    "df_1=df_1.rename(columns={'Залогированные часы':\"Часы\"})\n",
    "df_1['Стоимость часа']=df_1[\"Выплата за месяц (рублей)\"] /df_1[\"Часы\"]\n",
    "df_1 = df_1.drop('Исполнитель', axis=1)\n",
    "df_1"
   ]
  },
  {
   "cell_type": "code",
   "execution_count": 5,
   "metadata": {},
   "outputs": [],
   "source": [
    "writer = pd.ExcelWriter('Result.xlsx', engine='xlsxwriter')\n",
    "df_1.to_excel(writer, sheet_name='Sheet1')"
   ]
  },
  {
   "cell_type": "markdown",
   "metadata": {},
   "source": [
    "# Решение второй задачи"
   ]
  },
  {
   "cell_type": "code",
   "execution_count": 6,
   "metadata": {},
   "outputs": [
    {
     "data": {
      "text/html": [
       "<div>\n",
       "<style scoped>\n",
       "    .dataframe tbody tr th:only-of-type {\n",
       "        vertical-align: middle;\n",
       "    }\n",
       "\n",
       "    .dataframe tbody tr th {\n",
       "        vertical-align: top;\n",
       "    }\n",
       "\n",
       "    .dataframe thead th {\n",
       "        text-align: right;\n",
       "    }\n",
       "</style>\n",
       "<table border=\"1\" class=\"dataframe\">\n",
       "  <thead>\n",
       "    <tr style=\"text-align: right;\">\n",
       "      <th></th>\n",
       "      <th>Заказчик</th>\n",
       "      <th>Задача</th>\n",
       "      <th>Залогированные часы</th>\n",
       "    </tr>\n",
       "  </thead>\n",
       "  <tbody>\n",
       "    <tr>\n",
       "      <th>0</th>\n",
       "      <td>Лев - царь зверей</td>\n",
       "      <td>Тренировки</td>\n",
       "      <td>2.500</td>\n",
       "    </tr>\n",
       "    <tr>\n",
       "      <th>1</th>\n",
       "      <td>Серый Волк</td>\n",
       "      <td>Выковать меч</td>\n",
       "      <td>19.333</td>\n",
       "    </tr>\n",
       "    <tr>\n",
       "      <th>2</th>\n",
       "      <td>Серый Волк</td>\n",
       "      <td>Гномы финансируют драконов</td>\n",
       "      <td>10.000</td>\n",
       "    </tr>\n",
       "    <tr>\n",
       "      <th>3</th>\n",
       "      <td>Серый Волк</td>\n",
       "      <td>Купить мячик</td>\n",
       "      <td>0.500</td>\n",
       "    </tr>\n",
       "    <tr>\n",
       "      <th>4</th>\n",
       "      <td>Серый Волк</td>\n",
       "      <td>Найти принцессу</td>\n",
       "      <td>5.333</td>\n",
       "    </tr>\n",
       "    <tr>\n",
       "      <th>5</th>\n",
       "      <td>Серый Волк</td>\n",
       "      <td>Поговорить с принцессой</td>\n",
       "      <td>6.000</td>\n",
       "    </tr>\n",
       "    <tr>\n",
       "      <th>6</th>\n",
       "      <td>Снусмумрик</td>\n",
       "      <td>Гномы не слушаются</td>\n",
       "      <td>8.000</td>\n",
       "    </tr>\n",
       "    <tr>\n",
       "      <th>7</th>\n",
       "      <td>Снусмумрик</td>\n",
       "      <td>Гномы разбегаются</td>\n",
       "      <td>6.000</td>\n",
       "    </tr>\n",
       "  </tbody>\n",
       "</table>\n",
       "</div>"
      ],
      "text/plain": [
       "            Заказчик                      Задача  Залогированные часы\n",
       "0  Лев - царь зверей                  Тренировки                2.500\n",
       "1         Серый Волк                Выковать меч               19.333\n",
       "2         Серый Волк  Гномы финансируют драконов               10.000\n",
       "3         Серый Волк                Купить мячик                0.500\n",
       "4         Серый Волк             Найти принцессу                5.333\n",
       "5         Серый Волк     Поговорить с принцессой                6.000\n",
       "6         Снусмумрик         Гномы не слушаются                 8.000\n",
       "7         Снусмумрик           Гномы разбегаются                6.000"
      ]
     },
     "execution_count": 6,
     "metadata": {},
     "output_type": "execute_result"
    }
   ],
   "source": [
    "df_2=data_1.loc[:,[data_1.columns[4], data_1.columns[2],data_1.columns[7]]]\n",
    "df_2=df_2.groupby([\"Заказчик\",\"Задача\"],as_index=False). \\\n",
    "aggregate({\"Залогированные часы\":\"sum\"})\n",
    "df_2.to_excel(writer, sheet_name='Sheet2')\n",
    "df_2"
   ]
  },
  {
   "cell_type": "code",
   "execution_count": 7,
   "metadata": {},
   "outputs": [
    {
     "data": {
      "text/html": [
       "<div>\n",
       "<style scoped>\n",
       "    .dataframe tbody tr th:only-of-type {\n",
       "        vertical-align: middle;\n",
       "    }\n",
       "\n",
       "    .dataframe tbody tr th {\n",
       "        vertical-align: top;\n",
       "    }\n",
       "\n",
       "    .dataframe thead th {\n",
       "        text-align: right;\n",
       "    }\n",
       "</style>\n",
       "<table border=\"1\" class=\"dataframe\">\n",
       "  <thead>\n",
       "    <tr style=\"text-align: right;\">\n",
       "      <th></th>\n",
       "      <th>Заказчик</th>\n",
       "      <th>Залогированные часы</th>\n",
       "    </tr>\n",
       "  </thead>\n",
       "  <tbody>\n",
       "    <tr>\n",
       "      <th>0</th>\n",
       "      <td>Лев - царь зверей</td>\n",
       "      <td>2.500</td>\n",
       "    </tr>\n",
       "    <tr>\n",
       "      <th>1</th>\n",
       "      <td>Серый Волк</td>\n",
       "      <td>41.166</td>\n",
       "    </tr>\n",
       "    <tr>\n",
       "      <th>2</th>\n",
       "      <td>Снусмумрик</td>\n",
       "      <td>14.000</td>\n",
       "    </tr>\n",
       "  </tbody>\n",
       "</table>\n",
       "</div>"
      ],
      "text/plain": [
       "            Заказчик  Залогированные часы\n",
       "0  Лев - царь зверей                2.500\n",
       "1         Серый Волк               41.166\n",
       "2         Снусмумрик               14.000"
      ]
     },
     "execution_count": 7,
     "metadata": {},
     "output_type": "execute_result"
    }
   ],
   "source": [
    "df_2_s=df_2.loc[:,[df_2.columns[0], df_2.columns[2]]]\n",
    "df_2_s=df_2_s.groupby([\"Заказчик\"],as_index=False). \\\n",
    "aggregate({\"Залогированные часы\":\"sum\"})\n",
    "df_2_s.to_excel(writer, sheet_name='Sheet3')\n",
    "df_2_s"
   ]
  },
  {
   "cell_type": "code",
   "execution_count": 8,
   "metadata": {},
   "outputs": [],
   "source": [
    "writer.save()"
   ]
  },
  {
   "cell_type": "code",
   "execution_count": 9,
   "metadata": {},
   "outputs": [
    {
     "name": "stdout",
     "output_type": "stream",
     "text": [
      "57.666\n"
     ]
    }
   ],
   "source": [
    "sum_time=sum(df_2_s['Залогированные часы'])\n",
    "print(sum_time)"
   ]
  },
  {
   "cell_type": "code",
   "execution_count": null,
   "metadata": {},
   "outputs": [],
   "source": []
  }
 ],
 "metadata": {
  "kernelspec": {
   "display_name": "Python 3",
   "language": "python",
   "name": "python3"
  },
  "language_info": {
   "codemirror_mode": {
    "name": "ipython",
    "version": 3
   },
   "file_extension": ".py",
   "mimetype": "text/x-python",
   "name": "python",
   "nbconvert_exporter": "python",
   "pygments_lexer": "ipython3",
   "version": "3.8.3"
  }
 },
 "nbformat": 4,
 "nbformat_minor": 4
}
